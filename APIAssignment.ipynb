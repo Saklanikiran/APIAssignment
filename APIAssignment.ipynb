{
 "cells": [
  {
   "cell_type": "markdown",
   "id": "0c442667-a55a-4d10-80b3-ecc15785a0e6",
   "metadata": {},
   "source": [
    "# Ans : 1"
   ]
  },
  {
   "cell_type": "code",
   "execution_count": null,
   "id": "e52465cf-e824-4197-a5c7-26dd90c58cc0",
   "metadata": {},
   "outputs": [],
   "source": [
    "'''\n",
    "API stands for Application Programming Interface. It is a set of protocols and tools that allows different software\n",
    "applications to communicate with each other. APIs define the methods and data formats that applications can use to request \n",
    "and exchange information. They enable the integration of different software systems, allowing them to work together and share\n",
    "data seamlessly.\n",
    "\n",
    "Example : example of API usage in real life is in the context of a weather application. Let's say you have a weather app on\n",
    "your smartphone that provides current weather conditions and forecasts. The app may use a third-party weather API to fetch\n",
    "real-time weather data from a remote server. The API allows the weather app to send a request for weather information \n",
    "(such as temperature, humidity, and wind speed) to the server, and the server responds with the requested data in a structured\n",
    "format (e.g., JSON or XML). The weather app then processes this data and presents it to you in a user-friendly interface.\n",
    "\n",
    "'''"
   ]
  },
  {
   "cell_type": "markdown",
   "id": "c2fc9ddd-e557-4db8-b292-3cfef4f21537",
   "metadata": {},
   "source": [
    "# Ans : 2"
   ]
  },
  {
   "cell_type": "code",
   "execution_count": null,
   "id": "8682f4f8-d8c8-4566-85d6-8c5c6d19e5d4",
   "metadata": {},
   "outputs": [],
   "source": [
    "'''\n",
    "Advantages of using APIs:\n",
    "    1.Interoperability\n",
    "    2.Modularity\n",
    "    3.Rapid Development\n",
    "    4.Access to Third-Party Services\n",
    "    5.Innovation\n",
    "    \n",
    "Disadvantages of using APIs:\n",
    "    1.Dependency on External Services\n",
    "    2.Security Concerns\n",
    "    3.Versioning Challenges\n",
    "    4.Costs\n",
    "    \n",
    "'''"
   ]
  },
  {
   "cell_type": "markdown",
   "id": "ebf358eb-c5eb-40d2-9034-838b5e9dff22",
   "metadata": {},
   "source": [
    "# Ans :3"
   ]
  },
  {
   "cell_type": "code",
   "execution_count": null,
   "id": "9ae65873-bdb2-454c-ba68-ec863a8af64e",
   "metadata": {},
   "outputs": [],
   "source": [
    "'''\n",
    "Web APIs : A Web API specifically refers to an API that is designed to be accessed over the web using standard web protocols,\n",
    "    typically HTTP or HTTPS. Web APIs are often used to enable communication between a web server and client applications, \n",
    "    allowing them to exchange data.\n",
    "    \n",
    "    \n",
    "Difference between APIs and Web APIs :\n",
    "\n",
    "1.Scope:\n",
    "    > API: The term API is more general and can refer to any set of rules that allow different software components to interact.\n",
    "    > Web API: Refers specifically to APIs that are designed to be accessed over the web.\n",
    "    \n",
    "2.Communication Protocol:\n",
    "    > API: Can use various communication protocols, not limited to web-based protocols.\n",
    "    > Web API: Typically uses HTTP or HTTPS as the communication protocol, making it accessible over the web.\n",
    "    \n",
    "3.Access Method:\n",
    "    > API: Can be accessed through various methods, including libraries, SDKs (Software Development Kits), or direct code integration.\n",
    "    > Web API: Accessed over the web using standard HTTP requests, often utilizing methods like GET, POST, PUT, or DELETE.\n",
    "\n",
    "4.Use Cases:\n",
    "    > API: Can be used in a broad range of contexts, including desktop applications, mobile apps, embedded systems, and more.\n",
    "    > Web API: Primarily used for enabling communication between web servers and client applications, making it a common\n",
    "                choice for web and mobile app development.\n",
    "'''"
   ]
  },
  {
   "cell_type": "markdown",
   "id": "26a5dce4-0046-4091-ac5f-a890657bc395",
   "metadata": {},
   "source": [
    "# Ans : 4"
   ]
  },
  {
   "cell_type": "code",
   "execution_count": null,
   "id": "9f3dd92b-bdd9-4b3c-abce-32e0eb7e3137",
   "metadata": {},
   "outputs": [],
   "source": [
    "'''\n",
    "REST (Representational State Transfer):REST is an architectural style for designing networked applications. It is not a\n",
    "        protocol but rather a set of principles and constraints that guide the design of distributed systems.\n",
    "        \n",
    "        > Statelessness: Each request from a client to a server must contain all the information needed to understand and \n",
    "            fulfill that request. The server should not store any information about the client's state between requests.\n",
    "        > Resource-Based: Resources, such as data or services, are identified by URIs (Uniform Resource Identifiers).\n",
    "            Clients interact with resources through standard HTTP methods like GET, POST, PUT, and DELETE.\n",
    "        > Representation: Resources can have different representations (e.g., JSON, XML), and clients can request a specific \n",
    "            representation based on their needs.\n",
    "        > Uniform Interface: RESTful APIs should have a uniform and consistent interface. This includes using standard HTTP \n",
    "            methods, providing a stateless communication model, and utilizing a resource-based architecture.\n",
    "            \n",
    "SOAP (Simple Object Access Protocol): SOAP is a protocol for exchanging structured information in web services. \n",
    "        It relies on XML as the message format and typically uses HTTP or SMTP as the transport protocol.\n",
    "        \n",
    "        > XML-Based: SOAP messages are structured using XML, making them platform and language-independent.\n",
    "        > Extensibility: SOAP supports extensions and has a wide range of built-in features, including security and transaction handling.\n",
    "        > Standardized: SOAP is a protocol with a standardized specification, ensuring consistency across implementations.\n",
    "        > Complexity: SOAP tends to be more complex than REST due to its extensive specifications and features.\n",
    "        \n",
    "        \n",
    "Shortcomings of SOAP:\n",
    "    1. Complexity: SOAP can be more complex both in terms of message structure (XML-based) and protocol features. \n",
    "                    This complexity can make it more challenging to implement and maintain.\n",
    "    2. Overhead: The XML format used in SOAP messages can result in larger message sizes compared to more compact formats\n",
    "                like JSON used in REST. This can lead to increased overhead in terms of bandwidth and processing.\n",
    "    3. Performance: Due to its verbosity and additional features, SOAP can be slower in terms of performance compared to\n",
    "                more lightweight protocols like REST.\n",
    "    4. Limited Browser Support: SOAP is typically used in scenarios where both the client and server have prior knowledge of \n",
    "                each other, making it less suitable for scenarios where browsers need to interact with web services.\n",
    "                \n",
    "'''"
   ]
  },
  {
   "cell_type": "markdown",
   "id": "1e7e6f90-3f5c-4a79-b2c0-f4f949dbe84e",
   "metadata": {},
   "source": [
    "# Ans : 5"
   ]
  },
  {
   "cell_type": "code",
   "execution_count": null,
   "id": "cb7b1900-9f65-4013-a758-e3a376a51532",
   "metadata": {},
   "outputs": [],
   "source": [
    "'''\n",
    "Differences between REST and SOAP : \n",
    "\n",
    "1.Communication Protocol:\n",
    "    > REST: Uses standard HTTP methods (GET, POST, PUT, DELETE) for communication. It is often based on the principles of \n",
    "            HTTP and can use other protocols as well.\n",
    "    > SOAP: Primarily relies on XML as its message format and can use various transport protocols, including HTTP, SMTP, and more.\n",
    "\n",
    "2. Message Format:\n",
    "    > REST: Typically uses lightweight data formats like JSON or XML for message payloads. JSON is more common due to its simplicity and readability.\n",
    "    > SOAP: Employs XML as the message format, which can be more verbose and complex compared to JSON.\n",
    "\n",
    "3. Statelessness:\n",
    "    > REST: Follows the stateless communication model, meaning each request from a client to a server must contain all the information needed to understand and fulfill that request.\n",
    "    > SOAP: Can support both stateful and stateless operations. It is possible to maintain state between requests.\n",
    "\n",
    "4. Interface Style:\n",
    "    REST: Adheres to a uniform interface, where resources are identified by URIs, and standard HTTP methods are used for CRUD operations.\n",
    "SOAP: Provides a more rigid and standardized interface with a set of specifications for message structure, security, and transaction handling.\n",
    "Flexibility:\n",
    "\n",
    "REST: Offers more flexibility in terms of data formats, methods, and URIs. It allows developers to design APIs that fit the specific needs of the application.\n",
    "SOAP: Tends to be more rigid and requires strict adherence to its specifications. It may have more overhead due to its extensive features."
   ]
  }
 ],
 "metadata": {
  "kernelspec": {
   "display_name": "Python 3 (ipykernel)",
   "language": "python",
   "name": "python3"
  },
  "language_info": {
   "codemirror_mode": {
    "name": "ipython",
    "version": 3
   },
   "file_extension": ".py",
   "mimetype": "text/x-python",
   "name": "python",
   "nbconvert_exporter": "python",
   "pygments_lexer": "ipython3",
   "version": "3.10.8"
  }
 },
 "nbformat": 4,
 "nbformat_minor": 5
}
